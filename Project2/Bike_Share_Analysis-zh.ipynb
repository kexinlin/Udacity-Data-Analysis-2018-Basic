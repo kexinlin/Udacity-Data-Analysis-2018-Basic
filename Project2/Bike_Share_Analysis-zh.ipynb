{
 "cells": [
  {
   "cell_type": "markdown",
   "metadata": {},
   "source": [
    "# 2016年美国共享单车活动快照\n",
    "\n",
    "## 目录\n",
    "- [简介](#intro)\n",
    "- [提出问题](#pose_questions)\n",
    "- [数据收集和整理](#wrangling)\n",
    "  - [浓缩骑行数据](#condensing)\n",
    "- [探索性数据分析](#eda)\n",
    "  - [统计数据](#statistics)\n",
    "  - [可视化界面](#visualizations)\n",
    "- [进行你自己的分析](#eda_continued)\n",
    "- [总结](#conclusions)\n",
    "\n",
    "<a id='intro'></a>\n",
    "## 简介\n",
    "\n",
    "> **小贴士**: 像这样的引用部分旨在为学员提供实用指导，帮助学员了解并使用 Jupyter notebook\n",
    "\n",
    "过去十年里，世界各城市的共享单车系统不仅不断增多，也越来越受人们欢迎。用户可借助共享单车系统来租赁单车，进行通常在 30 分钟以内的短途骑行。由于信息科技的崛起，用户能够方便地找到所用系统的停车点，实现单车解锁或归还操作。不仅如此，信息科技还带来了大量数据，有了这些数据，我们就能研究共享单车系统的使用情况。\n",
    "\n",
    "在本项目中，你将进行探索性数据分析。你所需分析的数据源自 [Motivate](https://www.motivateco.com/)，这是一家为美国诸多大城市提供共享单车系统的供应商。你将比较三大城市：纽约市、芝加哥和华盛顿特区的系统使用情况，并观察每个系统的长期注册用户和短期临时用户之间有无区别。\n",
    "\n",
    "<a id='pose_questions'></a>\n",
    "## 提出问题\n",
    "\n",
    "在查看共享单车数据之前，你得先明确自己想了解共享单车数据的哪些方面，并就此提出问题。打个比方，假如你是 Motivate 的员工，为了做出更明智的商业决策，你会想了解什么信息呢？假如你是共享单车服务的对象，那么什么样的因素会影响你对这类服务的使用偏好呢？\n",
    "\n",
    "**问题 1**: 写出至少两个你觉得能用数据解决的共享单车相关问题。\n",
    "\n",
    "**答案**：\n",
    "1. 长期注册会员还是短期临时会员的平均骑行时长要更长？\n",
    "2. 哪个城市的平均每日骑行次数最多？\n",
    "3. 工作日还是周末的平均骑行次数更多？\n",
    "4. 一天中的什么时候是共享单车使用的高峰时段，即一天中的哪个小时平均骑行次数最大？\n",
    "\n",
    "> **小贴士**: 双击上框，文本就会发生变化，所有格式都会被清除，以便你编辑该文本块。该文本块是用 [Markdown](http://daringfireball.net/projects/markdown/syntax)编写的，该语言使用纯文本语法，能用页眉、链接、斜体等来规范文本格式。在纳米学位课程中，你也会用到 Markdown。编辑后，可使用 **Shift** + **Enter** 或 **Shift** + **Return** 运行上该框，使其呈现出编辑好的文本格式。\n",
    "\n",
    "<a id='wrangling'></a>\n",
    "## 数据收集与整理\n",
    "\n",
    "现在是时候收集并探索数据了。在本项目中，我们将重点关注所选城市：纽约市、芝加哥、华盛顿特区 2016 年的个人骑行记录。每座城市均有相关页面供我们随时下载骑行数据：\n",
    "\n",
    "- 纽约市(Citi Bike): [链接](https://www.citibikenyc.com/system-data)\n",
    "- 芝加哥 (Divvy): [链接](https://www.divvybikes.com/system-data)\n",
    "- 华盛顿特区 (Capital Bikeshare): [链接](https://www.capitalbikeshare.com/system-data)\n",
    "\n",
    "访问上述网页，你就会发现各城市提供数据的方式有所不同。芝加哥每两年更新一次数据，华盛顿特区则每个季度更新一次，纽约市则是每月一更。**不过你无需亲自下载数据。** 我们已为你收集好了数据并存放到项目文件的 `/data/` 文件夹中了，虽然各城市 2016 年的原始数据散布在多个文件中，但 `/data/` 文件夹里的文件已分别将当年各城市的所有骑行数据整合到一个文件中了。我们已为你完成了一些数据整理操作，处理了各城市数据时间戳格式不一致的问题。除此之外，我们还移除了原始数据 2% 的随机样本，以减少探索障碍。\n",
    "\n",
    "**问题 2**: 尽管如此，我们要研究的数据还有很多，因此，我们最好先观察各目标分析城市的某一则记录。运行下方第一个代码框，加载一些分析所需的包和函数，然后完成第二个代码框，使其分别输出各城市的第一条骑行记录（也即每个数据文件的第二行）。\n",
    "\n",
    "> **小贴士**: 运行代码框的方法与编辑上方的 Markdown 框的格式类似，你只需点击代码框，按下键盘快捷键 **Shift** + **Enter** 或 **Shift** + **Return** ，或者你也可先选择代码框，然后点击工具栏的 **运行** 按钮来运行代码。运行代码框时，相应单元左侧的信息会出现星号，即 `In [*]:`，若代码执行完毕，星号则会变为某个数字，如 `In [1]`。如果代码运行后有输出结果，输出将会以 `Out [1]:` 的形式出现，其中的数字将与 \"In\" 中的数字相对应。"
   ]
  },
  {
   "cell_type": "code",
   "execution_count": 1,
   "metadata": {},
   "outputs": [],
   "source": [
    "## 导入所有必要的包和函数。\n",
    "import csv # 读写 csv 文件\n",
    "from datetime import datetime # 日期解析操作\n",
    "from pprint import pprint # 用于输出字典等数据结构\n",
    "                          # 这比 base print 函数要好用。"
   ]
  },
  {
   "cell_type": "code",
   "execution_count": 2,
   "metadata": {},
   "outputs": [
    {
     "name": "stdout",
     "output_type": "stream",
     "text": [
      "\n",
      "City: NYC\n",
      "OrderedDict([('tripduration', '839'),\n",
      "             ('starttime', '1/1/2016 00:09:55'),\n",
      "             ('stoptime', '1/1/2016 00:23:54'),\n",
      "             ('start station id', '532'),\n",
      "             ('start station name', 'S 5 Pl & S 4 St'),\n",
      "             ('start station latitude', '40.710451'),\n",
      "             ('start station longitude', '-73.960876'),\n",
      "             ('end station id', '401'),\n",
      "             ('end station name', 'Allen St & Rivington St'),\n",
      "             ('end station latitude', '40.72019576'),\n",
      "             ('end station longitude', '-73.98997825'),\n",
      "             ('bikeid', '17109'),\n",
      "             ('usertype', 'Customer'),\n",
      "             ('birth year', ''),\n",
      "             ('gender', '0')])\n",
      "\n",
      "City: Chicago\n",
      "OrderedDict([('trip_id', '9080545'),\n",
      "             ('starttime', '3/31/2016 23:30'),\n",
      "             ('stoptime', '3/31/2016 23:46'),\n",
      "             ('bikeid', '2295'),\n",
      "             ('tripduration', '926'),\n",
      "             ('from_station_id', '156'),\n",
      "             ('from_station_name', 'Clark St & Wellington Ave'),\n",
      "             ('to_station_id', '166'),\n",
      "             ('to_station_name', 'Ashland Ave & Wrightwood Ave'),\n",
      "             ('usertype', 'Subscriber'),\n",
      "             ('gender', 'Male'),\n",
      "             ('birthyear', '1990')])\n",
      "\n",
      "City: Washington\n",
      "OrderedDict([('Duration (ms)', '427387'),\n",
      "             ('Start date', '3/31/2016 22:57'),\n",
      "             ('End date', '3/31/2016 23:04'),\n",
      "             ('Start station number', '31602'),\n",
      "             ('Start station', 'Park Rd & Holmead Pl NW'),\n",
      "             ('End station number', '31207'),\n",
      "             ('End station', 'Georgia Ave and Fairmont St NW'),\n",
      "             ('Bike number', 'W20842'),\n",
      "             ('Member Type', 'Registered')])\n"
     ]
    }
   ],
   "source": [
    "def print_first_point(filename):\n",
    "    \"\"\"\n",
    "    本函数会输出并返回指定的 csv 文件 （含页眉行）的第一个数据点（即文件的第二行）。\n",
    "    \"\"\"\n",
    "    # 输出城市名以供参考\n",
    "    city = filename.split('-')[0].split('/')[-1]\n",
    "    print('\\nCity: {}'.format(city))\n",
    "    \n",
    "    with open(filename, 'r') as f_in:\n",
    "        ## 待办：用 csv 库来设置一个 DictReader 对象。##\n",
    "        ## 见 https://docs.python.org/3/library/csv.html           ##\n",
    "        trip_reader = csv.DictReader(f_in)\n",
    "        \n",
    "        ## 待办：对 DictReader 对象使用函数     ##\n",
    "        ## 从而读取数据文件的第一条骑行记录并将其存储为一个变量     ##\n",
    "        ## 见 https://docs.python.org/3/library/csv.html#reader-objects ##\n",
    "        first_trip = next(trip_reader)\n",
    "        \n",
    "        ## 待办：用 pprint 库来输出第一条骑行记录。 ##\n",
    "        ## 见 https://docs.python.org/3/library/pprint.html     ##\n",
    "        pprint(first_trip)\n",
    "        \n",
    "    # 输出城市名和第一条骑行记录以备测试\n",
    "    return (city, first_trip)\n",
    "\n",
    "# 各城市的文件列表\n",
    "data_files = ['./data/NYC-CitiBike-2016.csv',\n",
    "              './data/Chicago-Divvy-2016.csv',\n",
    "              './data/Washington-CapitalBikeshare-2016.csv',]\n",
    "\n",
    "# 输出各文件的第一条骑行记录，并将其储存在字典中\n",
    "example_trips = {}\n",
    "for data_file in data_files:\n",
    "    city, first_trip = print_first_point(data_file)\n",
    "    example_trips[city] = first_trip"
   ]
  },
  {
   "cell_type": "markdown",
   "metadata": {},
   "source": [
    "要是一切都填写正确的话，你就能看到下方输出了每座城市的名字（解析数据文件名而得），而其中第一条骑行记录也已解析成字典的格式。等你设置好`DictReader`对象，数据文件的第一行通常就会被处理为列名，文件其余的行则将以这些列名作为关键字，这是因为每一行都生成了一个字典对象。\n",
    "\n",
    "这些可读性很强的标签对我们访问大量数据十分实用，有了这些，我们就无需使用数字索引，比如，如果我们有一条骑行记录储存在变量 `row`里，那就可以用 `row['duration']` 来获得骑行时长，无需使用 `row[0]`。\n",
    "\n",
    "<a id='condensing'></a>\n",
    "### 浓缩骑行数据\n",
    "\n",
    "你应该能从上方的输出观察到每座城市提供的信息是有差别的，就算是信息相同的部分，列名和格式有时也不尽相同。为了尽可能方便真正的探索操作，我们应当对数据进行修剪和清理。清理数据以保证各城市数据格式一致，修剪数据则能让我们把重心完全放到最关心的那部分数据上，从而减小探索难度。\n",
    "\n",
    "你将生成新的数据文件，该文件需包括你感兴趣的五个骑行数据值：骑行时长、起始月份、起始小时、周几以及用户类型。每座城市的这五个值都可能需要额外的整理操作，这取决于各城市的数据差异：\n",
    "\n",
    "- **时长**：该值可能以秒数（纽约市、芝加哥）或毫秒数（华盛顿特区）表示，但就分析而言，分析单位为分钟更佳，所以如果能将所有骑行时长都以分钟表示就好了。\n",
    "- **月份**, **小时**, **周几**：季节、一天的什么时候以及是否周末都有可能影响骑客量，请用骑行起始时间来获取这些值。纽约市数据的时间戳记录了秒数，而华盛顿特区和芝加哥的并没有。 此处使用 [`datetime`](https://docs.python.org/3/library/datetime.html) 包应大有帮助，该包可实现必要的转换操作。\n",
    "- **用户类型**： 共享单车系统的注册用户可能与临时用户有不同的使用模式。华盛顿特区将其用户分为两种：‘注册用户’ ——这类用户买了较长时期的会员，如年度会员或月度会员；‘临时用户’——这类用户所购买的骑行时间较短，如只有 24 小时或 3 天。纽约市和芝加哥的数据则用 ‘会员’ 和 ‘散客’ 来区分这两者。为了保证数据的一致性，你需要修改华盛顿特区的标签，使其与另外两座城市的标签相同。\n",
    "\n",
    "\n",
    "**问题 3a**：完成下方代码框中的辅助函数，完成上述各项清理任务。"
   ]
  },
  {
   "cell_type": "code",
   "execution_count": 3,
   "metadata": {},
   "outputs": [],
   "source": [
    "def duration_in_mins(datum, city):\n",
    "    \"\"\"\n",
    "    将一个字典作为输入，该字典需包含一条骑行记录（数据）\n",
    "    及记录城市（城市）的信息，返回该骑行的时长，使该时长以分钟为单位。\n",
    "    \n",
    "    记住，华盛顿特区是以毫秒作为计量单位的，而芝加哥和纽约市则\n",
    "    以秒数作为单位。\n",
    "    \n",
    "    提示：csv 模块会将所有数据读取为字符串，包括数值，\n",
    "    所以转换单位时，你需要用一个函数来将字符串转换为合适的数值类型。\n",
    "    见 https://docs.python.org/3/library/functions.html\n",
    "    \"\"\"\n",
    "    if city == 'NYC' or city == 'Chicago':\n",
    "        original_duration = int(datum['tripduration'])\n",
    "        duration = original_duration / 60\n",
    "    elif city == 'Washington':\n",
    "        original_duration = int(datum['Duration (ms)'])\n",
    "        duration = original_duration / (1000*60)\n",
    "    \n",
    "    return duration\n",
    "\n",
    "\n",
    "# 测试代码是否奏效，若所有断言都没问题，则不应有输出出现。\n",
    "# 至于字典 `example_trips` \n",
    "# 则是在你输出每个数据源文件的第一条骑行数据时生成的。\n",
    "tests = {'NYC': 13.9833,\n",
    "         'Chicago': 15.4333,\n",
    "         'Washington': 7.1231}\n",
    "\n",
    "for city in tests:\n",
    "    assert abs(duration_in_mins(example_trips[city], city) - tests[city]) < .001"
   ]
  },
  {
   "cell_type": "code",
   "execution_count": 4,
   "metadata": {},
   "outputs": [],
   "source": [
    "def zero_padding(input_str):\n",
    "    \"\"\"\n",
    "    把时间input_str的日期部分转换为标准的零填充格式，即'dd/mm/yyyy'格式。\n",
    "    例如：'3/5/2016'将会被转化为'03/05/2016'。\n",
    "    \"\"\"\n",
    "    date_str = input_str.split()[0]\n",
    "    time_str = input_str.split()[1]\n",
    "    date_str_list = date_str.split('/')\n",
    "    \n",
    "    if len(date_str_list[0]) == 1:\n",
    "        date_str_list[0] = '0' + date_str_list[0]\n",
    "        \n",
    "    if len(date_str_list[1]) == 1:\n",
    "        date_str_list[1] = '0' + date_str_list[1]\n",
    "    \n",
    "    date_zero_padding = '/'.join(date_str_list)\n",
    "    complete_time = date_zero_padding + ' ' + time_str\n",
    "    \n",
    "    return complete_time"
   ]
  },
  {
   "cell_type": "code",
   "execution_count": 5,
   "metadata": {},
   "outputs": [],
   "source": [
    "def extract_datetime(datetime_object):\n",
    "    \"\"\"\n",
    "    从datetime格式的时间中提取月份（month），小时（hour），和周（day_of_week）。\n",
    "    月份和小时前面无零填充，周为完整指代星期的单词。\n",
    "    \n",
    "    \"\"\"\n",
    "    month = datetime.strftime(datetime_object, '%m').lstrip(\"0\")\n",
    "    hour = datetime.strftime(datetime_object, '%H').lstrip(\"0\")\n",
    "    if hour == '':\n",
    "        hour = '0'\n",
    "    day_of_week = datetime.strftime(datetime_object, '%A')\n",
    "    \n",
    "    return month, hour, day_of_week"
   ]
  },
  {
   "cell_type": "code",
   "execution_count": 6,
   "metadata": {},
   "outputs": [],
   "source": [
    "def time_of_trip(datum, city):\n",
    "    \"\"\"\n",
    "    将一个字典作为输入，该字典需包含一条骑行记录（数据）\n",
    "    及记录城市（城市）的信息，返回该骑行进行的月份、小时及周几这三个值。\n",
    "    \n",
    "    记住，纽约市以秒为单位，华盛顿特区和芝加哥则不然。\n",
    "    \n",
    "    提示：你需要用 datetime 模块来将原始日期字符串解析为\n",
    "    方便提取目的信息的格式。\n",
    "    见 https://docs.python.org/3/library/datetime.html#strftime-and-strptime-behavior\n",
    "    \"\"\"\n",
    "    if city == 'Chicago':\n",
    "        time = zero_padding(datum['starttime'])\n",
    "        datetime_object = datetime.strptime(time, '%m/%d/%Y %H:%M')\n",
    "        month, hour, day_of_week = extract_datetime(datetime_object)\n",
    "        \n",
    "    elif city == 'NYC':\n",
    "        time = zero_padding(datum['starttime'])\n",
    "        datetime_object = datetime.strptime(time, '%m/%d/%Y %H:%M:%S')\n",
    "        month, hour, day_of_week = extract_datetime(datetime_object)\n",
    "        \n",
    "    elif city == 'Washington':\n",
    "        time = zero_padding(datum['Start date'])\n",
    "        datetime_object = datetime.strptime(time, '%m/%d/%Y %H:%M')\n",
    "        month, hour, day_of_week = extract_datetime(datetime_object)\n",
    "    \n",
    "    return (int(month), int(hour), day_of_week)\n",
    "\n",
    "\n",
    "# 测试代码是否奏效，若所有断言都没问题，则不应有输出出现。\n",
    "# 至于字典 `example_trips`\n",
    "# 则是在你输出每个数据源文件的第一条骑行数据时生成的。\n",
    "tests = {'NYC': (1, 0, 'Friday'),\n",
    "         'Chicago': (3, 23, 'Thursday'),\n",
    "         'Washington': (3, 22, 'Thursday')}\n",
    "\n",
    "for city in tests:\n",
    "    assert time_of_trip(example_trips[city], city) == tests[city]"
   ]
  },
  {
   "cell_type": "code",
   "execution_count": 7,
   "metadata": {},
   "outputs": [],
   "source": [
    "def change_label(original_user_type):\n",
    "    \"\"\"\n",
    "    由于华盛顿将用户分为了'Registered'和'Casual'，而纽约和芝加哥则是定义为'Subscriber'和'Customer'。\n",
    "    因此，需要将华盛顿的用户类型改为和纽约、芝加哥一致的名称。\n",
    "    \n",
    "    即，将'Registered'转为'Subscriber'，将'Casual'转为'Customer'。\n",
    "    \"\"\"\n",
    "    if original_user_type == 'Registered':\n",
    "        return 'Subscriber'\n",
    "    elif original_user_type == 'Casual':\n",
    "        return 'Customer'"
   ]
  },
  {
   "cell_type": "code",
   "execution_count": 8,
   "metadata": {},
   "outputs": [],
   "source": [
    "def type_of_user(datum, city):\n",
    "    \"\"\"\n",
    "    将一个字典作为输入，该字典需包含一条骑行记录（数据）\n",
    "    及记录城市（城市）的信息，返回进行该骑行的系统用户类型。\n",
    "    \n",
    "    记住，华盛顿特区的类名与芝加哥和纽约市的不同。\n",
    "    \n",
    "    \"\"\"\n",
    "    if city == 'NYC' or city == 'Chicago':\n",
    "        user_type = datum['usertype']\n",
    "    else:\n",
    "        user_type = change_label(datum['Member Type'])\n",
    "    \n",
    "    return user_type\n",
    "\n",
    "\n",
    "# 测试代码是否奏效，若所有断言都没问题，则不应有输出出现。\n",
    "# 至于字典 `example_trips`\n",
    "# 则是在你输出每个数据源文件的第一条骑行数据时生成的。\n",
    "tests = {'NYC': 'Customer',\n",
    "         'Chicago': 'Subscriber',\n",
    "         'Washington': 'Subscriber'}\n",
    "\n",
    "for city in tests:\n",
    "    assert type_of_user(example_trips[city], city) == tests[city]"
   ]
  },
  {
   "cell_type": "markdown",
   "metadata": {},
   "source": [
    "**问题 3b**: 现在，使用你在上方编写的辅助函数来为每座城市生成数据浓缩文件，该文件将只包括上述数据区。在 `/examples/` 文件夹里，你将看到转换前后的数据文件示例，该示例来自[旧金山湾区共享单车](http://www.bayareabikeshare.com/open-data)。请确保你的输出结果与示例文件具备一致的格式。"
   ]
  },
  {
   "cell_type": "code",
   "execution_count": 9,
   "metadata": {},
   "outputs": [],
   "source": [
    "def condense_data(in_file, out_file, city):\n",
    "    \"\"\"\n",
    "    本函数会从指定的输入文件中提取全部数据\n",
    "    并在指定的输出文件中写出浓缩数据。\n",
    "    城市参数决定输入文件的解析方式。\n",
    "    \n",
    "    提示：参考下框以明确参数结构！\n",
    "    \"\"\"\n",
    "    \n",
    "    with open(out_file, 'w') as f_out, open(in_file, 'r') as f_in:\n",
    "        # 设置 csv DictWriter 对象——该对象需将第一列列名\n",
    "        # 作为 \"fieldnames\" 参数\n",
    "        out_colnames = ['duration', 'month', 'hour', 'day_of_week', 'user_type']        \n",
    "        trip_writer = csv.DictWriter(f_out, fieldnames = out_colnames)\n",
    "        trip_writer.writeheader()\n",
    "        \n",
    "        ## 待办：设置 csv DictReader 对象##\n",
    "        trip_reader = csv.DictReader(f_in)\n",
    "\n",
    "        # 收集并处理每行的数据\n",
    "        for row in trip_reader:\n",
    "            # 设置一个字典来存储清理和修剪后的数据点的值\n",
    "            new_point = {}\n",
    "            \n",
    "            new_point['duration'] = duration_in_mins(row, city)\n",
    "            new_point['month'] = time_of_trip(row, city)[0]\n",
    "            new_point['hour'] = time_of_trip(row, city)[1]\n",
    "            new_point['day_of_week'] = time_of_trip(row, city)[2]\n",
    "            new_point['user_type'] = type_of_user(row, city)\n",
    "            \n",
    "            \n",
    "            ## 注意字典 new_point 的关键词应与 ##\n",
    "            ## 上述 DictWriter 对象设置的列名一致。        ##\n",
    "\n",
    "            ## 待办：在输出文件中写出处理后的信息。##\n",
    "            ## 见 https://docs.python.org/3/library/csv.html#writer-objects ##\n",
    "            \n",
    "            trip_writer.writerow(new_point)       "
   ]
  },
  {
   "cell_type": "code",
   "execution_count": 10,
   "metadata": {},
   "outputs": [
    {
     "name": "stdout",
     "output_type": "stream",
     "text": [
      "\n",
      "City: Washington\n",
      "OrderedDict([('duration', '7.123116666666666'),\n",
      "             ('month', '3'),\n",
      "             ('hour', '22'),\n",
      "             ('day_of_week', 'Thursday'),\n",
      "             ('user_type', 'Subscriber')])\n",
      "\n",
      "City: Chicago\n",
      "OrderedDict([('duration', '15.433333333333334'),\n",
      "             ('month', '3'),\n",
      "             ('hour', '23'),\n",
      "             ('day_of_week', 'Thursday'),\n",
      "             ('user_type', 'Subscriber')])\n",
      "\n",
      "City: NYC\n",
      "OrderedDict([('duration', '13.983333333333333'),\n",
      "             ('month', '1'),\n",
      "             ('hour', '0'),\n",
      "             ('day_of_week', 'Friday'),\n",
      "             ('user_type', 'Customer')])\n"
     ]
    }
   ],
   "source": [
    "# 运行下框以测试效果\n",
    "city_info = {'Washington': {'in_file': './data/Washington-CapitalBikeshare-2016.csv',\n",
    "                            'out_file': './data/Washington-2016-Summary.csv'},\n",
    "             'Chicago': {'in_file': './data/Chicago-Divvy-2016.csv',\n",
    "                         'out_file': './data/Chicago-2016-Summary.csv'},\n",
    "             'NYC': {'in_file': './data/NYC-CitiBike-2016.csv',\n",
    "                     'out_file': './data/NYC-2016-Summary.csv'}}\n",
    "\n",
    "for city, filenames in city_info.items():\n",
    "    condense_data(filenames['in_file'], filenames['out_file'], city)\n",
    "    print_first_point(filenames['out_file'])"
   ]
  },
  {
   "cell_type": "markdown",
   "metadata": {},
   "source": [
    "> **小贴士**：对 Jupyter Notebook 进行保存，运行代码块所得的输出结果也会得到保存，不过，一旦开始了新节，工作空间的状态就会被重置，所以你得运行上一节涉及的所有必要代码块，重建变量和函数，方能找回上次离开的进度。\n",
    "\n",
    "<a id='eda'></a>\n",
    "## 探索性数据分析\n",
    "\n",
    "现在你已经收集并整理了数据，可以开始探索数据了。在本节中，你将编写一些代码来对数据进行描述统计。我们还将为你介绍 `matplotlib` 库，以便你为数据创建一些基本直方图。\n",
    "\n",
    "<a id='statistics'></a>\n",
    "### 统计数据\n",
    "\n",
    "首先，我们来进行一些基本统计。下方的第一个框里包括了一个函数，该函数会用 csv 模块来对给定的数据文件进行迭代处理，并返回会员和散客的骑行次数。第二个框则会运行 `/examples/` 文件夹里湾区示例数据中的函数。修改下框，回答下列问题。\n",
    "\n",
    "**问题 4a**：哪座城市的骑行次数最多？哪座城市会员进行的骑行次数占比最高？哪座城市散客进行的骑行次数占比最高？\n",
    "\n",
    "**答案**：从下方单元格运行的结果来看，纽约市的骑行次数最多，纽约市的会员进行骑行的次数占比最高，芝加哥的散客进行骑行的次数占比最高。"
   ]
  },
  {
   "cell_type": "code",
   "execution_count": 11,
   "metadata": {},
   "outputs": [],
   "source": [
    "def number_of_trips(filename):\n",
    "    \"\"\"\n",
    "    本函数会读取一个骑行数据文件，分别报告\n",
    "    会员、散客和所有系统用户的骑行次数。\n",
    "    \"\"\"\n",
    "    with open(filename, 'r') as f_in:\n",
    "        # 设置 csv reader 对象\n",
    "        reader = csv.DictReader(f_in)\n",
    "        \n",
    "        # 初始化计数变量\n",
    "        n_subscribers = 0\n",
    "        n_customers = 0\n",
    "        \n",
    "        # 计算骑行类型\n",
    "        for row in reader:\n",
    "            if row['user_type'] == 'Subscriber':\n",
    "                n_subscribers += 1\n",
    "            else:\n",
    "                n_customers += 1\n",
    "        \n",
    "        # 统计骑行总次数\n",
    "        n_total = n_subscribers + n_customers\n",
    "        \n",
    "        proportion_customers = n_customers / n_total\n",
    "        proportion_subscribers = n_subscribers / n_total\n",
    "        \n",
    "        # 将结果作为数组返回出来\n",
    "        return(n_total, proportion_subscribers, proportion_customers)"
   ]
  },
  {
   "cell_type": "code",
   "execution_count": 12,
   "metadata": {},
   "outputs": [
    {
     "name": "stdout",
     "output_type": "stream",
     "text": [
      "New York city\n",
      "Total number of trips: 276798\n",
      "Proportion of trips by subscribers: 0.89%\n",
      "Proportion of trips by customers: 0.11%\n",
      "\n",
      "Chicago\n",
      "Total number of trips: 72131\n",
      "Proportion of trips by subscribers: 0.76%\n",
      "Proportion of trips by customers: 0.24%\n",
      "\n",
      "Washington\n",
      "Total number of trips: 66326\n",
      "Proportion of trips by subscribers: 0.78%\n",
      "Proportion of trips by customers: 0.22%\n"
     ]
    }
   ],
   "source": [
    "## 修改此框及上框，回答问题 4a。##\n",
    "## 记得运行你在问题 3 中创建的数据文件清理函数。     ##\n",
    "\n",
    "NYC_file = './data/NYC-2016-Summary.csv'\n",
    "Chicago_file = './data/Chicago-2016-Summary.csv'\n",
    "Washington_file = './data/Washington-2016-Summary.csv'\n",
    "print('New York city\\nTotal number of trips: {}\\nProportion of trips by subscribers: {:.2f}%\\nProportion of trips by customers: {:.2f}%'.format(\n",
    "      number_of_trips(NYC_file)[0], number_of_trips(NYC_file)[1], number_of_trips(NYC_file)[2]))\n",
    "print()\n",
    "print('Chicago\\nTotal number of trips: {}\\nProportion of trips by subscribers: {:.2f}%\\nProportion of trips by customers: {:.2f}%'.format(\n",
    "      number_of_trips(Chicago_file)[0], number_of_trips(Chicago_file)[1], number_of_trips(Chicago_file)[2]))\n",
    "print()\n",
    "print('Washington\\nTotal number of trips: {}\\nProportion of trips by subscribers: {:.2f}%\\nProportion of trips by customers: {:.2f}%'.format(\n",
    "      number_of_trips(Washington_file)[0], number_of_trips(Washington_file)[1], number_of_trips(Washington_file)[2]))"
   ]
  },
  {
   "cell_type": "markdown",
   "metadata": {},
   "source": [
    "> **小贴士**：要在 notebook 里添加框，你可以用上方菜单栏里的  \"在上方插入框\" 和 \"在下方插入框\" 功能，也可以用工具栏的相关图标来添加新框，那里还有其它图标可在文件中上移或下移框。新框默认为代码框。你还可以在框菜单或工具栏下拉菜单中为选中框指定类型（如代码框或 Markdown 框）。\n",
    "\n",
    "现在，你需要写下自己的代码，继续研究数据的属性。\n",
    "\n",
    "**问题 4b**：共享单车系统是为短途骑行者而设的。大多数时候，用户在 30 分钟内骑行无需额外付费，若是超过该时长，则需支付超时费用。那么，各城市的平均骑行时长是多少？各城市骑行时长超过 30 分钟的比例又是多少？\n",
    "\n",
    "**答案**：纽约市平均骑行时长为15.81分钟，骑行时长超过30分钟的比例为0.07%；芝加哥平均骑行时长为16.56，骑行时长超过30分钟的比例为0.08%；华盛顿平均骑行时长为18.93，骑行时长超过30分钟的比例为0.11%。"
   ]
  },
  {
   "cell_type": "code",
   "execution_count": 13,
   "metadata": {},
   "outputs": [],
   "source": [
    "def calculate_average_duration(filename):\n",
    "    \"\"\"\n",
    "    函数读取一个文件名，将其文件打开后通过csv.DictReader读取文件的duration数据。\n",
    "    将duration数据进行求和后除以总骑行数得到平均骑行时长。\n",
    "    \"\"\"\n",
    "    with open(filename, 'r') as f_in:\n",
    "        \n",
    "        reader = csv.DictReader(f_in)\n",
    "        total_duration = 0\n",
    "        \n",
    "        for row in reader:\n",
    "            duration = row['duration']\n",
    "            total_duration += float(duration)\n",
    "    \n",
    "        trip_num = number_of_trips(filename)[0]\n",
    "        average_duration = total_duration / trip_num\n",
    "            \n",
    "        return average_duration"
   ]
  },
  {
   "cell_type": "code",
   "execution_count": 14,
   "metadata": {},
   "outputs": [],
   "source": [
    "def proportion_above_30(filename):\n",
    "    with open(filename) as f_in:\n",
    "        \n",
    "        reader = csv.DictReader(f_in)\n",
    "        trip_num = number_of_trips(filename)[0]\n",
    "        trip_num_above_30 = 0\n",
    "        \n",
    "        for row in reader:\n",
    "            duration = float(row['duration'])\n",
    "            if duration > 30:\n",
    "                trip_num_above_30 += 1\n",
    "        \n",
    "    return trip_num_above_30 / trip_num"
   ]
  },
  {
   "cell_type": "code",
   "execution_count": 15,
   "metadata": {},
   "outputs": [
    {
     "name": "stdout",
     "output_type": "stream",
     "text": [
      "New York City\n",
      "Average duration: 15.81 minutes\n",
      "Proportion of duration above 30 minutes: 0.07%\n",
      "\n",
      "Chicago\n",
      "Average duration: 16.56 minutes\n",
      "Proportion of duration above 30 minutes: 0.08%\n",
      "\n",
      "Washington\n",
      "Average duration: 18.93 minutes\n",
      "Proportion of duration above 30 minutes: 0.11%\n"
     ]
    }
   ],
   "source": [
    "## 使用本框及新框来回答问题 4b。               ##\n",
    "##                                                                      ##\n",
    "## 提示：csv 模块会将所有数据读取为字符串，包括数值。 ##\n",
    "## 因此，在统计数据之前，你需要用函数将字符串转换为      ##\n",
    "## 合适的数值类型。         ##\n",
    "## 小贴士：在湾区示例数据中，平均骑行时长为 14 分钟，##\n",
    "## 骑行时长多于 30 分钟的数据占比 3.5%。                      ##\n",
    "\n",
    "print('New York City\\nAverage duration: {:.2f} minutes\\nProportion of duration above 30 minutes: {:.2f}%'.format(\n",
    "    calculate_average_duration(NYC_file), proportion_above_30(NYC_file)))\n",
    "print()\n",
    "print('Chicago\\nAverage duration: {:.2f} minutes\\nProportion of duration above 30 minutes: {:.2f}%'.format(\n",
    "    calculate_average_duration(Chicago_file), proportion_above_30(Chicago_file)))\n",
    "print()\n",
    "print('Washington\\nAverage duration: {:.2f} minutes\\nProportion of duration above 30 minutes: {:.2f}%'.format(\n",
    "    calculate_average_duration(Washington_file), proportion_above_30(Washington_file)))"
   ]
  },
  {
   "cell_type": "markdown",
   "metadata": {},
   "source": [
    "**问题 4c**：从骑客量的角度更深入地挖掘骑行时长问题。选择一座城市，研究该城市哪种系统用户的平均骑行时间更长？是会员还是散客？\n",
    "\n",
    "**答案**：根据下方单元格的运行结果，纽约市的散客平均骑行时长要长于其会员平均骑行时长，且散客平均骑行时常比会员平均骑行时长大概长了20分钟左右。"
   ]
  },
  {
   "cell_type": "code",
   "execution_count": 16,
   "metadata": {},
   "outputs": [],
   "source": [
    "def average_duration_for_group(filename, group_name):\n",
    "    \"\"\"\n",
    "    函数读取一个文件名和求平均骑行时长的用户分类名，用户分类名称可为'Subsriber'或'Customer'。\n",
    "    将其文件打开后通过csv.DictReader读取文件的duration数据。\n",
    "    将duration数据进行求和后除以总骑行数得到平均骑行时长。\n",
    "    \"\"\"\n",
    "    with open(filename, 'r') as f_in:\n",
    "        \n",
    "        reader = csv.DictReader(f_in)\n",
    "        total_duration = 0\n",
    "        total_num = 0\n",
    "        \n",
    "        for row in reader:\n",
    "            if row['user_type'] == group_name:\n",
    "                total_num += 1\n",
    "                duration = row['duration']\n",
    "                total_duration += float(duration)\n",
    "    \n",
    "    average_duration = total_duration / total_num\n",
    "            \n",
    "    return average_duration"
   ]
  },
  {
   "cell_type": "code",
   "execution_count": 17,
   "metadata": {},
   "outputs": [
    {
     "name": "stdout",
     "output_type": "stream",
     "text": [
      "New York City\n",
      "Average duration of Customer: 32.98 minutes\n",
      "Average duration of Subscriber: 13.68 minutes\n"
     ]
    }
   ],
   "source": [
    "## 使用本框及新框来回答问题 4c。##\n",
    "## 如果你还没这么做过，你可以考虑修改之前的代码   ##\n",
    "## 利用一些可重复利用的函数。                            ##\n",
    "##                                                                     ##\n",
    "## 小贴士：在海湾示例数据中，你应该发现    ##\n",
    "## 会员平均骑行时长为 9.5 分钟，散客平均骑行时长则为##\n",
    "## 54.6 分钟，其它城市区别也这么大吗？     ##\n",
    "##                                                ##\n",
    "\n",
    "print('New York City\\nAverage duration of Customer: {:.2f} minutes\\nAverage duration of Subscriber: {:.2f} minutes'.format(\n",
    "    average_duration_for_group(NYC_file, 'Customer'), average_duration_for_group(NYC_file, 'Subscriber')))"
   ]
  },
  {
   "cell_type": "markdown",
   "metadata": {},
   "source": [
    "<a id='visualizations'></a>\n",
    "### 可视化界面\n",
    "\n",
    "你统计出来的最后一组值应该会出现相当有趣的结果：会员平均骑行时长远低于 30 分钟，而散客的平均骑行时长则的的确确 _超过_了 30 分钟！要是能观察骑行时长的分布，应该会很有趣，为此，我们需要引入一个新库，即 `matplotlib`。请运行下框，加载该库以生成示例图。"
   ]
  },
  {
   "cell_type": "code",
   "execution_count": 18,
   "metadata": {},
   "outputs": [
    {
     "data": {
      "image/png": "[encoded data removed]",
      "text/plain": [
       "<matplotlib.figure.Figure at 0x1059b5f98>"
      ]
     },
     "metadata": {},
     "output_type": "display_data"
    }
   ],
   "source": [
    "# 加载库\n",
    "import matplotlib.pyplot as plt\n",
    "\n",
    "# 这个'咒语'能展示图形。\n",
    "# 内联 notebook，详见：\n",
    "# http://ipython.readthedocs.io/en/stable/interactive/magics.html\n",
    "%matplotlib inline \n",
    "\n",
    "# 直方图示例，数据来自湾区样本\n",
    "data = [ 7.65,  8.92,  7.42,  5.50, 16.17,  4.20,  8.98,  9.62, 11.48, 14.33,\n",
    "        19.02, 21.53,  3.90,  7.97,  2.62,  2.67,  3.08, 14.40, 12.90,  7.83,\n",
    "        25.12,  8.30,  4.93, 12.43, 10.60,  6.17, 10.88,  4.78, 15.15,  3.53,\n",
    "         9.43, 13.32, 11.72,  9.85,  5.22, 15.10,  3.95,  3.17,  8.78,  1.88,\n",
    "         4.55, 12.68, 12.38,  9.78,  7.63,  6.45, 17.38, 11.90, 11.52,  8.63,]\n",
    "plt.hist(data)\n",
    "plt.title('Distribution of Trip Durations')\n",
    "plt.xlabel('Duration (m)')\n",
    "plt.show()"
   ]
  },
  {
   "cell_type": "markdown",
   "metadata": {},
   "source": [
    "在上框中，我们收集了五十个骑行时长数据，制成列表，并将该列表作为 `.hist()` 函数的第一个参数，该函数会进行统计并生成绘图对象，以便生成直方图，但我们需要执行 `.show()` 函数才能呈现统计图。`.title()` 和 `.xlabel()` 函数则提供一些标签，以便说明统计图的背景。\n",
    "\n",
    "现在你可以使用这些函数，为你在问题 4c 所选城市的骑行时长创建直方图。请先不要将会员和散客的统计分开，你现在只需统计所有骑行时长并生成统计图即可。"
   ]
  },
  {
   "cell_type": "code",
   "execution_count": 19,
   "metadata": {},
   "outputs": [],
   "source": [
    "def collect_all_duration(filename):\n",
    "    \"\"\"\n",
    "    传入一个文件名至此函数，此函数将打开其文件并利用csv.DictReader以字典形式来读取每行数据。\n",
    "    函数会返回一个列表，包含了文件内所有duration数据。\n",
    "    \"\"\"\n",
    "    with open(filename) as f_in:\n",
    "        \n",
    "        reader = csv.DictReader(f_in)\n",
    "        duration_list = []\n",
    "        \n",
    "        for row in reader:\n",
    "            duration = float(row['duration'])\n",
    "            duration_list.append(duration)\n",
    "        \n",
    "    return duration_list"
   ]
  },
  {
   "cell_type": "code",
   "execution_count": 20,
   "metadata": {},
   "outputs": [],
   "source": [
    "NYC_duration = collect_all_duration(NYC_file)"
   ]
  },
  {
   "cell_type": "code",
   "execution_count": 21,
   "metadata": {},
   "outputs": [
    {
     "data": {
      "image/png": "[encoded data removed]",
      "text/plain": [
       "<matplotlib.figure.Figure at 0x10775bbe0>"
      ]
     },
     "metadata": {},
     "output_type": "display_data"
    }
   ],
   "source": [
    "## 使用本框及新框来收集所有骑行时长并制成列表。##\n",
    "## 使用 pyplot 函数来为骑行时长生成直方图。 ##\n",
    "\n",
    "plt.hist(NYC_duration, bins = 15, range = (0, 75))\n",
    "plt.xlabel('Duration (minutes)')\n",
    "plt.title('Distribution of Trip Durations')\n",
    "plt.show();"
   ]
  },
  {
   "cell_type": "markdown",
   "metadata": {},
   "source": [
    "如果你按示例的用法来用 `.hist()` 和 `.show()` 函数，就可能得到一张完全在意料之外的统计图，该图左侧将有一条极长的柱形，相邻的第二条柱形则可能十分短小，而且中间和右边将空出许多空间，这个时候你可以看看 x 轴的时长值，你会发现，数据里有些高度异常的极端值，不过你不需要重新处理数据，只需为 `.hist()` 函数再加一些参数，限制绘图数据的范围即可，函数相关文件请见[[这里]](https://matplotlib.org/devdocs/api/_as_gen/matplotlib.pyplot.hist.html#matplotlib.pyplot.hist).\n",
    "\n",
    "**问题 5**：用 `.hist()` 函数的参数来为所选城市的会员骑行时长绘制分布图，并单独为散客做同样的操作。限制统计图的范围，仅绘制骑行时长小于 75 分钟的数据。另外，你可以设置每条柱形之间有五分钟的间隔。在每组数据中，各分布图的峰值分别在哪？你会如何描述每个分布图的形状？\n",
    "\n",
    "**答案**：在纽约市的会员骑行时长分布图中，峰值出现在10分钟左右的位置，形状呈明显的右偏分布，说明会员在大部分时候的骑行时间都小于20分钟。在纽约市的散客骑行时长分布图中，峰值出现在大约20分钟左右，形状同样呈明显的右偏分布，但是相比会员骑行时长分布图没有那么右偏，说明散客骑行时长数据更为分散，且骑行时间相比会员要更长一些。"
   ]
  },
  {
   "cell_type": "code",
   "execution_count": 22,
   "metadata": {},
   "outputs": [],
   "source": [
    "def collect_group_duration(filename, group_name):\n",
    "    \"\"\"\n",
    "    传入一个文件名和用户分类名至此函数，用户分类名称可为'Subsriber'或'Customer'。\n",
    "    此函数将打开其文件并利用csv.DictReader以字典形式来读取用户名为指定分类的每行数据。\n",
    "    函数会返回一个列表，包含了文件内所有对应用户分类的duration数据。\n",
    "    \"\"\"\n",
    "    with open(filename) as f_in:\n",
    "        \n",
    "        reader = csv.DictReader(f_in)\n",
    "        duration_list = []\n",
    "        \n",
    "        for row in reader:\n",
    "            if row['user_type'] == group_name:\n",
    "                duration = float(row['duration'])\n",
    "                duration_list.append(duration)\n",
    "        \n",
    "    return duration_list"
   ]
  },
  {
   "cell_type": "code",
   "execution_count": 23,
   "metadata": {},
   "outputs": [
    {
     "data": {
      "image/png": "[encoded data removed]",
      "text/plain": [
       "<matplotlib.figure.Figure at 0x111405dd8>"
      ]
     },
     "metadata": {},
     "output_type": "display_data"
    }
   ],
   "source": [
    "## 使用本框及新框来回答问题 5##\n",
    "NYC_subscriber_duration = collect_group_duration(NYC_file, 'Subscriber')\n",
    "plt.hist(NYC_subscriber_duration, bins = 15, range = (0, 75))\n",
    "plt.title('Distribution of Trip Durations by Subscribers')\n",
    "plt.xlabel('Duration (minutes)')\n",
    "plt.show()"
   ]
  },
  {
   "cell_type": "code",
   "execution_count": 24,
   "metadata": {},
   "outputs": [
    {
     "data": {
      "image/png": "[encoded data removed]",
      "text/plain": [
       "<matplotlib.figure.Figure at 0x1059b5b00>"
      ]
     },
     "metadata": {},
     "output_type": "display_data"
    }
   ],
   "source": [
    "NYC_customer_duration = collect_group_duration(NYC_file, 'Customer')\n",
    "plt.hist(NYC_customer_duration, bins = 15, range = (0, 75))\n",
    "plt.title('Distribution of Trip Durations by Customers')\n",
    "plt.xlabel('Duration (minutes)')\n",
    "plt.show()"
   ]
  },
  {
   "cell_type": "markdown",
   "metadata": {},
   "source": [
    "<a id='eda_continued'></a>\n",
    "## 进行你自己的分析\n",
    "\n",
    "到目前为止，你已经对手头的数据进行了初步的探索，对比了三座美国城市的相应骑行量，以及会员和散客的骑行比例，你还选取了其中一座城市，从一般骑行时长的角度来研究会员和散客的区别，接下来的探索，你就要自己选择研究方向了，以下是一些探索方向的建议：\n",
    "\n",
    "- 不同月份或季度的骑客量有什么区别？哪个月份/季度的骑客量最高？会员骑行量与散客骑行量之比会受月份或季度的影响吗？\n",
    "- 周末和工作日的系统用户骑行模式有何区别？哪一天会员更可能使用骑行系统？散客呢？平均骑行时长会受一周内不同日期的影响吗？\n",
    "- 一天内的哪个时候系统使用最频繁？会员和散客的使用模式有区别吗？\n",
    "\n",
    "若你在问题 1 回答中提出的任何问题与上述参考类似，那现在就是研究这些的好时机。作为研究的一部分，你需要创建可视化界面，如果不想创建直方图，你可以参考 [Pyplot 文件](https://matplotlib.org/devdocs/api/pyplot_summary.html)。值得一提的是，如果你想为分类变量的不同值绘制统计图（如城市、用户类型），柱形图会大有帮助。[`.bar()`文件页面](https://matplotlib.org/devdocs/api/_as_gen/matplotlib.pyplot.bar.html#matplotlib.pyplot.bar)底部具备相关示例链接，可供你参考，助你创建自己需要的统计图。\n",
    "\n",
    "**问题 6**：探索另一个可用数据回答的问题，继续研究。在下方写下你想探索的问题，你的研究至少应包括两个变量，对比两组数据并使用一个可视化界面。\n",
    "\n",
    "**答案**: \n",
    "- 问题研究：对于纽约市的共享单车而言，散客在一周中的哪一天使用的次数最多？会员在一周中的哪一天使用的次数最多？\n",
    "- 探究结论：根据下方的两幅柱状图可以看出，在纽约市，散客使用次数较多的时候是周末两天，其中周六的累计使用次数最高。在工作日的各天中散客的累计使用次数均没有超过4000次，在周末两天的累计使用次数却达到了6000次以上。会员使用次数较多的时候则是在工作日，周三和周四的累计使用量不相上下，都超过了40000次。周末会员的累计使用次数相比工作日较少，没有达到25000次。"
   ]
  },
  {
   "cell_type": "code",
   "execution_count": 25,
   "metadata": {},
   "outputs": [],
   "source": [
    "def day_of_week_frequency(filename, group_name):\n",
    "    \"\"\"\n",
    "    函数打开名为传入的filename的csv文件，利用csv.DictReader读取文件的每一行。\n",
    "    然后将每行user_type信息符合group_name的day_of_week信息储存在day_of_week_list列表里，返回列表。\n",
    "    \"\"\"\n",
    "    with open(filename) as f_in:\n",
    "        \n",
    "        reader = csv.DictReader(f_in)\n",
    "        day_of_week_list = [0] * 7\n",
    "        \n",
    "        \n",
    "        for row in reader:\n",
    "            if row['user_type'] == group_name:\n",
    "                day_of_week = row['day_of_week']\n",
    "                if day_of_week == 'Monday':\n",
    "                    day_of_week_list[0] += 1\n",
    "                elif day_of_week == 'Tuesday':\n",
    "                    day_of_week_list[1] += 1\n",
    "                elif day_of_week == 'Wednesday':\n",
    "                    day_of_week_list[2] += 1\n",
    "                elif day_of_week == 'Thursday':\n",
    "                    day_of_week_list[3] += 1\n",
    "                elif day_of_week == 'Friday':\n",
    "                    day_of_week_list[4] += 1\n",
    "                elif day_of_week == 'Saturday':\n",
    "                    day_of_week_list[5] += 1\n",
    "                elif day_of_week == 'Sunday':\n",
    "                    day_of_week_list[6] += 1\n",
    "    \n",
    "    return day_of_week_list"
   ]
  },
  {
   "cell_type": "code",
   "execution_count": 26,
   "metadata": {},
   "outputs": [
    {
     "data": {
      "image/png": "[encoded data removed]",
      "text/plain": [
       "<matplotlib.figure.Figure at 0x1113f9438>"
      ]
     },
     "metadata": {},
     "output_type": "display_data"
    }
   ],
   "source": [
    "## 使用本框及新框来继续探索数据集。 ##\n",
    "## 一旦你进行了自己的探索，请写下你的发现 ##\n",
    "## 请将发现写在上方的 Markdown 框中。     ##\n",
    "NYC_day_of_week = day_of_week_frequency(NYC_file, 'Customer')\n",
    "plt.bar(range(7), NYC_day_of_week)\n",
    "labels = ['Mon', 'Tues', 'Wed', 'Thurs', 'Fri',' Sat', 'Sun']\n",
    "plt.xticks(range(7), labels)\n",
    "plt.title('Distribution of Cumulative Weekly Count by Customers')\n",
    "plt.show()"
   ]
  },
  {
   "cell_type": "code",
   "execution_count": 27,
   "metadata": {},
   "outputs": [
    {
     "data": {
      "image/png": "[encoded data removed]",
      "text/plain": [
       "<matplotlib.figure.Figure at 0x112223cf8>"
      ]
     },
     "metadata": {},
     "output_type": "display_data"
    }
   ],
   "source": [
    "NYC_day_of_week = day_of_week_frequency(NYC_file, 'Subscriber')\n",
    "plt.bar(range(7), NYC_day_of_week)\n",
    "labels = ['Mon', 'Tues', 'Wed', 'Thurs', 'Fri',' Sat', 'Sun']\n",
    "plt.xticks(range(7), labels)\n",
    "plt.title('Distribution of Cumulative Weekly Count by Subscribers')\n",
    "plt.show()"
   ]
  },
  {
   "cell_type": "markdown",
   "metadata": {},
   "source": [
    "<a id='conclusions'></a>\n",
    "## 结论\n",
    "\n",
    "恭喜你完成了本项目！这只是数据分析流程的一个样本，囊括了提出问题、整理数据、探索数据三大步骤。通常来讲，数据分析流程进行到这一步，你就可以进行统计检验或为数据拟合模型、得出预测，从而得出结论了。虽然还有许多潜在分析可以进行，但仅靠我们提供的这些数据是不可能完成的。例如，我们没有研究具体的地点数据。最常用的停车点在哪里？最常用的路线是什么？再如，天气也可能对每日骑客量造成很大的影响。下雨或下雪的时候，骑客量会受多大的影响？会员或散客谁更易受天气的影响？\n",
    "\n",
    "**问题 7**：撇开共享单车数据不谈，想出一个你想应用数据科学技术的课题或领域。对于该课题，你想了解些什么？\n",
    "\n",
    "**答案**：我想对外卖APP应用数据科学技术，我希望了解人们在一天中的哪一时段使用外卖APP点单的次数最高。\n",
    "\n",
    "> **小贴士**：如果我们想同他人分享分析成果，我们也不一定要给他们一份 jupyter Notebook  (.ipynb) 文件的副本，我们可以将 Notebook 的输出结果以某种格式输出，这样一来，就算是没有安装 Python 的人也可以打开文件。在左上方的 **文件** 菜单中找到  **下载为**  子菜单，你可以在其中选择各种更加普遍的格式，比如 HTML (.html) 或 PDF (.pdf)。你可能还需要额外的包或软件来实现这类输出。\n",
    "\n",
    "> 如果你是通过教室的 Project Notebook 页面来进行本项目的，你也可以直接从工作空间提交本项目。 **但在此之前**，你得执行下方的代码框，为完成好的项目保存一份 HTML 的副本，并将其放到工作空间中。如果操作顺利，输出代码应为 0， 如果你点击左上角的 jupyter 图标，你就会看到工作空间的目录中出现了你的 .html 文件；或者你也可以根据上述段落提及的步骤来下载报告的 .html 格式副本，然后  _上传_ 该报告到目录之中（点击 jupyter 图标来实现这一步）。 \n",
    "\n",
    "> 无论是哪个办法，一旦你在工作空间中获取了 .html 格式的报告，你就可以点击工作空间右下方的“项目提交”按钮来完成提交。"
   ]
  }
 ],
 "metadata": {
  "kernelspec": {
   "display_name": "Python 3",
   "language": "python",
   "name": "python3"
  },
  "language_info": {
   "codemirror_mode": {
    "name": "ipython",
    "version": 3
   },
   "file_extension": ".py",
   "mimetype": "text/x-python",
   "name": "python",
   "nbconvert_exporter": "python",
   "pygments_lexer": "ipython3",
   "version": "3.6.4"
  }
 },
 "nbformat": 4,
 "nbformat_minor": 2
}
